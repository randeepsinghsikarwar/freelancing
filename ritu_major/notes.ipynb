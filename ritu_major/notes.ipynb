{
 "cells": [
  {
   "cell_type": "markdown",
   "metadata": {},
   "source": [
    "# Week 11 notes"
   ]
  },
  {
   "cell_type": "markdown",
   "metadata": {},
   "source": [
    "## Lab 3\n",
    " - review expectations"
   ]
  },
  {
   "cell_type": "markdown",
   "metadata": {},
   "source": [
    "## Project\n",
    "\n",
    "- overview of project elements and what each should contain\n",
    "- data\n",
    "    - make sure it meets the requirements\n",
    "    - possible to manufacture missing and noise \n",
    "        - will take extra time\n",
    "- SQLite\n",
    "    - clean up data before going in\n",
    "    - store data\n",
    "    - pull from database to use data\n",
    "        - verify cleanliness\n",
    "- ML models\n",
    "    - don't use 20 different error metrics\n",
    "        - choose one appropriate for the task\n",
    "    - get a baseline\n",
    "        - is there a baseline from industry?\n",
    "        - from other people who have worked on this problem?\n",
    "        - if nothing else exists,\n",
    "            - use random forest to get quick baseline (like Chapter 5)\n",
    "    - check different models\n",
    "        - start with random forest then explore others as powerful or more powerful\n",
    "    - for a given model check hyperparameters\n",
    "        - no need for an exhaustive search\n",
    "            - set up code structure for checking    \n",
    "    - will need a train/validation/test split\n",
    "        - even if using random forest\n",
    "            - will have other models so need to treat all the same\n",
    "        - use training data to create models\n",
    "        - use validation data to select between models and between hyperparameter values\n",
    "        - use test data at the very end, when you have chosen a final model\n",
    "            - once a final model is chosen\n",
    "                - retrain with combined training and validation data\n",
    "                - evaluate using test data\n",
    "    - save only final model to file\n",
    "- website\n",
    "    - pull sample data from SQLite database\n",
    "    - one page per model\n",
    "        - must be able to enter data and get a prediction\n",
    "- github\n",
    "    - all code necessary to reproduce your results starting with original data\n",
    "    - organized logically\n",
    "    - readme\n",
    "        - provides all the information someone needs to understand your project and be able to get it running on their computer\n",
    "    - requirements file\n",
    "        - allows someone who wants to run your project easy access to installing all the required packages\n",
    "\n",
    "    \n",
    "        "
   ]
  }
 ],
 "metadata": {
  "kernelspec": {
   "display_name": "Python 3 (ipykernel)",
   "language": "python",
   "name": "python3"
  },
  "language_info": {
   "codemirror_mode": {
    "name": "ipython",
    "version": 3
   },
   "file_extension": ".py",
   "mimetype": "text/x-python",
   "name": "python",
   "nbconvert_exporter": "python",
   "pygments_lexer": "ipython3",
   "version": "3.12.1"
  }
 },
 "nbformat": 4,
 "nbformat_minor": 4
}
