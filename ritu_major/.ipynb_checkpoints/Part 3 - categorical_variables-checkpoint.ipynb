{
 "cells": [
  {
   "cell_type": "markdown",
   "metadata": {},
   "source": [
    "# Part 3 - Categorically Speaking\n",
    "\n",
    "**Notice**: This notebook is a modification of [cats.ipynb and targetencode.ipynb](https://mlbook.explained.ai/notebooks/index.html) by Terence Parr and Jeremy Howard, which were used by permission of the author."
   ]
  },
  {
   "cell_type": "markdown",
   "metadata": {},
   "source": [
    "### Reestablish Baseline"
   ]
  },
  {
   "cell_type": "code",
   "execution_count": null,
   "metadata": {
    "id": "6P6fbYCnN7vH"
   },
   "outputs": [],
   "source": [
    "from sklearn.model_selection import train_test_split\n",
    "from sklearn.ensemble import RandomForestRegressor\n",
    "from sklearn.metrics import mean_absolute_error, r2_score\n",
    "import numpy as np\n",
    "import pandas as pd\n",
    "from rfpimp_MC import *\n",
    "import category_encoders as ce"
   ]
  },
  {
   "cell_type": "code",
   "execution_count": null,
   "metadata": {},
   "outputs": [],
   "source": [
    "def evaluate(X, y):\n",
    "    rf = RandomForestRegressor(n_estimators=100, n_jobs=-1, oob_score=True)\n",
    "    rf.fit(X, y)\n",
    "    oob = rf.oob_score_\n",
    "    n = rfnnodes(rf)\n",
    "    h = np.median(rfmaxdepths(rf))\n",
    "    print(f\"OOB R^2 is {oob:.5f} using {n:,d} tree nodes with {h} median tree depth\")\n",
    "    return rf, oob"
   ]
  },
  {
   "cell_type": "code",
   "execution_count": null,
   "metadata": {},
   "outputs": [],
   "source": [
    "def showimp(rf, X, y):\n",
    "    features = list(X.columns)\n",
    "    features.remove('latitude')\n",
    "    features.remove('longitude')\n",
    "    features += [['latitude','longitude']]\n",
    "\n",
    "    I = importances(rf, X, y, features=features)\n",
    "    plot_importances(I, color='#4575b4')"
   ]
  },
  {
   "cell_type": "code",
   "execution_count": null,
   "metadata": {
    "colab": {
     "base_uri": "https://localhost:8080/",
     "height": 142
    },
    "id": "dJ83sz4UN7vR",
    "outputId": "f604b55c-b267-42a2-b595-b460360679e0"
   },
   "outputs": [],
   "source": [
    "rent = pd.read_csv('rent.csv')\n",
    "\n",
    "rent_clean = rent[(rent['price'] > 1000) & (rent['price'] < 10000)]\n",
    "rent_clean = rent_clean[(rent_clean['longitude'] !=0) | (rent_clean['latitude']!=0)]\n",
    "rent_clean = rent_clean[(rent_clean['latitude']>40.55) &\n",
    "                        (rent_clean['latitude']<40.94) &\n",
    "                        (rent_clean['longitude']>-74.1) &\n",
    "                        (rent_clean['longitude']<-73.67)]"
   ]
  },
  {
   "cell_type": "code",
   "execution_count": null,
   "metadata": {},
   "outputs": [],
   "source": [
    "numfeatures = ['bathrooms', 'bedrooms', 'longitude', 'latitude']\n",
    "\n",
    "X = rent_clean[numfeatures]\n",
    "y = rent_clean['price']"
   ]
  },
  {
   "cell_type": "code",
   "execution_count": null,
   "metadata": {},
   "outputs": [],
   "source": [
    "rf, oob = evaluate(X, y)"
   ]
  },
  {
   "cell_type": "code",
   "execution_count": null,
   "metadata": {},
   "outputs": [],
   "source": [
    "showimp(rf, X, y)"
   ]
  },
  {
   "cell_type": "markdown",
   "metadata": {},
   "source": [
    "### Feature Engineering\n",
    "\n",
    "What we will embark on now can be broadly categorized as *feature engineering*, which can be defined as: \n",
    "\n",
    "> the process of transforming raw data into features that better represent the underlying problem to the predictive models, resulting in improved model accuracy on unseen data. (Jason Brownlee)\n",
    "\n",
    "The goal is to discover (through domain knowledge, experimentation, etc.) which input features make it easier for the model to best predict the corresponding outputs. We won't cover all aspects of this topic, but will cover a few approaches that should prove useful in your practical work. "
   ]
  },
  {
   "cell_type": "markdown",
   "metadata": {},
   "source": [
    "#### Extracting Features from Strings\n",
    "\n",
    "Our apartment rental data has a few features that are made up of *string* (or text): \n",
    "- `description` contains free-form text that presumably highlights all the desirable qualities of the apartment;\n",
    "- `features` contains lists of specific amenities each apartment offers; and, \n",
    "- `photos` contains strings representing the filenames of pictures of the apartment. \n",
    "\n",
    "It would seem reasonable to think that some of the information contained in these columns would be connected to the price, since, after all, they are listed to show how much you are getting for the amount you have to spend. \n",
    "\n",
    "Let's consider each in turn, noting that processing free-form text may require a little more work and creativity than other columns. "
   ]
  },
  {
   "cell_type": "code",
   "execution_count": null,
   "metadata": {},
   "outputs": [],
   "source": [
    "rent_text = rent_clean[['description', 'features', 'photos']].copy()\n",
    "rent_text.head()"
   ]
  },
  {
   "cell_type": "markdown",
   "metadata": {},
   "source": [
    "The first thing we should do is check to see if there are any missing values."
   ]
  },
  {
   "cell_type": "code",
   "execution_count": null,
   "metadata": {},
   "outputs": [],
   "source": [
    "rent_text.isnull().sum()"
   ]
  },
  {
   "cell_type": "markdown",
   "metadata": {},
   "source": [
    "So, we will need to deal with this for the `description` column only. "
   ]
  },
  {
   "cell_type": "markdown",
   "metadata": {},
   "source": [
    "#### `Description`\n",
    "\n",
    "If we look at the first couple descriptions, we see words like *spacious* and *renovated*. These may have predictive power because: \n",
    "- even though we have the number of bedrooms and bathrooms, it doesn't tell us how big the apartment is overall, since one 1 bed/1 bath apartment could have twice the square footage of another, which may be worth more money; and, \n",
    "- a renovated apartment could mean that everything has been updated so it may look nicer and may have fewer problems compared to an apartment that has not been renovated. \n",
    "\n",
    "It's worth seeing if these can provide us with any performance improvement. \n",
    "\n",
    "First, let's replace the missing values with an empty string '' and convert the description to lower case text. "
   ]
  },
  {
   "cell_type": "code",
   "execution_count": null,
   "metadata": {},
   "outputs": [],
   "source": [
    "rent_clean['description'] = rent_clean['description'].fillna('')\n",
    "rent_clean['description'] = rent_clean['description'].str.lower() \n",
    "rent_clean.head(3).T"
   ]
  },
  {
   "cell_type": "markdown",
   "metadata": {},
   "source": [
    "Note that converting the text to lower case will remove the problem of Python treating *Spacious* and *spacious* as different, which is the default behaviour. \n",
    "\n",
    "Now let's create two new columns based on these two concepts of *spacious* and *renovated*. "
   ]
  },
  {
   "cell_type": "code",
   "execution_count": null,
   "metadata": {},
   "outputs": [],
   "source": [
    "rent_clean['renov'] = rent_clean['description'].str.contains(\"renov\")\n",
    "rent_clean['large_apt'] = rent_clean['description'].str.contains(\"spacious\")\n",
    "rent_clean.head(3).T"
   ]
  },
  {
   "cell_type": "markdown",
   "metadata": {},
   "source": [
    "It's probably a good idea to check how many apartments have these new features we have created, because if almost all (or none) of them have this feature it may not be much help in making predictions. "
   ]
  },
  {
   "cell_type": "code",
   "execution_count": null,
   "metadata": {},
   "outputs": [],
   "source": [
    "rent_clean['renov'].sum()"
   ]
  },
  {
   "cell_type": "code",
   "execution_count": null,
   "metadata": {},
   "outputs": [],
   "source": [
    "rent_clean['large_apt'].sum()"
   ]
  },
  {
   "cell_type": "markdown",
   "metadata": {},
   "source": [
    "That seems like a decent amount so let's use them to build a model. Remember that `False` and `True` get treated as 0 and 1, respectively, so even though they look like words, the computer is going to treat them as numbers. "
   ]
  },
  {
   "cell_type": "code",
   "execution_count": null,
   "metadata": {},
   "outputs": [],
   "source": [
    "X = rent_clean[numfeatures + ['renov', 'large_apt']]\n",
    "y = rent_clean['price']"
   ]
  },
  {
   "cell_type": "code",
   "execution_count": null,
   "metadata": {},
   "outputs": [],
   "source": [
    "rf, oob = evaluate(X, y)"
   ]
  },
  {
   "cell_type": "code",
   "execution_count": null,
   "metadata": {},
   "outputs": [],
   "source": [
    "showimp(rf, X, y)"
   ]
  },
  {
   "cell_type": "markdown",
   "metadata": {},
   "source": [
    "While these new features don't seem to have much predictive power, it is usually a good idea to try out different ideas like this based on our understanding of what may or may not be important to someone looking for an apartment. "
   ]
  },
  {
   "cell_type": "markdown",
   "metadata": {},
   "source": [
    "##### Exercise\n",
    "\n",
    "In a manner similar to what we did to create the new features `renov` and `large_apt`, try creating other features for: \n",
    "- apartments that have a balcony (see if you can do it in a way so you capture descriptions that say both *balcony* and *balconies*; and \n",
    "- apartments that allow pets, which in this case, is either *cats* or *dogs*. (Hint: you will need to combine the two conditions with a [logical operator](https://www.w3schools.com/python/gloss_python_logical_operators.asp).)"
   ]
  },
  {
   "cell_type": "markdown",
   "metadata": {},
   "source": [
    "#### `Features`\n",
    "\n",
    "The column `features`, which is not to be confused with the general machine learning term, refers to specific amenities that an apartment offers. Let's take a look at some entries to see what kind of information is available and whether or not it may help our model improve its performance. "
   ]
  },
  {
   "cell_type": "code",
   "execution_count": null,
   "metadata": {},
   "outputs": [],
   "source": [
    "rent_clean['features'][:10]"
   ]
  },
  {
   "cell_type": "markdown",
   "metadata": {},
   "source": [
    "We can see that some of the features listed could reasonably be related to the price of an apartment. For example, one would expect that having a *doorman* would be associated with higher-priced apartments. "
   ]
  },
  {
   "cell_type": "code",
   "execution_count": null,
   "metadata": {},
   "outputs": [],
   "source": [
    "rent_clean['features'] = rent_clean['features'].fillna('')\n",
    "rent_clean['features'] = rent_clean['features'].str.lower() \n",
    "\n",
    "for feature in ['doorman', 'parking', 'garage', 'laundry']:\n",
    "    rent_clean[feature] = rent_clean['features'].str.contains(feature)\n",
    "    \n",
    "rent_clean[['doorman', 'parking', 'garage', 'laundry']].head(5)"
   ]
  },
  {
   "cell_type": "markdown",
   "metadata": {},
   "source": [
    "And now check how many apartments have these new features we have created, because if almost all (or none) of them have this feature it may not be much help in making predictions. "
   ]
  },
  {
   "cell_type": "code",
   "execution_count": null,
   "metadata": {},
   "outputs": [],
   "source": [
    "rent_clean[['doorman', 'parking', 'garage', 'laundry']].sum()"
   ]
  },
  {
   "cell_type": "markdown",
   "metadata": {},
   "source": [
    "Seems like enough apartments have these particular features, so we can build and evaluate our model. "
   ]
  },
  {
   "cell_type": "code",
   "execution_count": null,
   "metadata": {},
   "outputs": [],
   "source": [
    "X = rent_clean[numfeatures + ['doorman', 'parking', 'garage', 'laundry']]\n",
    "y = rent_clean['price']\n",
    "X.head(3).T"
   ]
  },
  {
   "cell_type": "code",
   "execution_count": null,
   "metadata": {},
   "outputs": [],
   "source": [
    "rf, oob = evaluate(X, y)"
   ]
  },
  {
   "cell_type": "code",
   "execution_count": null,
   "metadata": {},
   "outputs": [],
   "source": [
    "showimp(rf, X, y)"
   ]
  },
  {
   "cell_type": "markdown",
   "metadata": {},
   "source": [
    "##### Exercise\n",
    "\n",
    "In a manner similar to what we did using `features`, try creating a few more columns based on other apartment characteristics that you can find. (Hint: Try using `rent_clean['features'][0:10]` and replace the start and end rows to explore what's listed in the `features` column. See if you can find anything that might be related to price. ) "
   ]
  },
  {
   "cell_type": "markdown",
   "metadata": {},
   "source": [
    "##### More Counting\n",
    "\n",
    "Counting is something that humans do well, so let's see if we can make it work for us here. Maybe higher-priced apartments have more for the manager to talk about so descriptions of the rental unit, lists of amenities, and the number of pictures of the apartment would all be higher than for lower-priced apartments. We can see if this has any impact on our model by doing some straightforward counting on the strings in these columns.  The basic approach is that for each apartment (row) we: \n",
    "- split the words in the `description` after each space (\" \") to create a list and then count how many elements are in the list; \n",
    "- split the list of amenities in `features` after each comma (\",\") to create a list and then count how many elements are in the list; and, \n",
    "- split the list of filenames in `photos` after each comma (\",\") to create a list and then count how many elements are in the list.\n",
    "\n",
    "Using the `description` as an example, here is what the original data looks like:"
   ]
  },
  {
   "cell_type": "code",
   "execution_count": null,
   "metadata": {},
   "outputs": [],
   "source": [
    "rent_clean[\"description\"]"
   ]
  },
  {
   "cell_type": "markdown",
   "metadata": {},
   "source": [
    "And here is what it looks like after we split each description on the white spaces between the words:"
   ]
  },
  {
   "cell_type": "code",
   "execution_count": null,
   "metadata": {},
   "outputs": [],
   "source": [
    "rent_clean[\"description\"].apply(lambda x: x.split())"
   ]
  },
  {
   "cell_type": "markdown",
   "metadata": {},
   "source": [
    "And here is what it looks like after we split and count:"
   ]
  },
  {
   "cell_type": "code",
   "execution_count": null,
   "metadata": {},
   "outputs": [],
   "source": [
    "rent_clean[\"description\"].apply(lambda x: len(x.split()))"
   ]
  },
  {
   "cell_type": "markdown",
   "metadata": {},
   "source": [
    "Let's do this procedure on all 3 columns and add the new columns to our data for training. "
   ]
  },
  {
   "cell_type": "code",
   "execution_count": null,
   "metadata": {},
   "outputs": [],
   "source": [
    "rent_clean['num_desc_words'] = rent_clean[\"description\"].apply(lambda x: len(x.split()))\n",
    "rent_clean['num_features'] = rent_clean[\"features\"].apply(lambda x: len(x.split(\",\")))\n",
    "rent_clean['num_photos'] = rent_clean[\"photos\"].apply(lambda x: len(x.split(\",\")))\n",
    "rent_clean[['num_desc_words', 'num_features', 'num_photos']].head()"
   ]
  },
  {
   "cell_type": "markdown",
   "metadata": {},
   "source": [
    "Now let's use these columns to build a model: "
   ]
  },
  {
   "cell_type": "code",
   "execution_count": null,
   "metadata": {},
   "outputs": [],
   "source": [
    "X = rent_clean[numfeatures + ['num_desc_words', 'num_features', 'num_photos']]\n",
    "y = rent_clean['price']"
   ]
  },
  {
   "cell_type": "code",
   "execution_count": null,
   "metadata": {},
   "outputs": [],
   "source": [
    "rf, oob = evaluate(X, y)"
   ]
  },
  {
   "cell_type": "code",
   "execution_count": null,
   "metadata": {},
   "outputs": [],
   "source": [
    "showimp(rf, X, y)"
   ]
  },
  {
   "cell_type": "markdown",
   "metadata": {},
   "source": [
    "### What We Have So Far\n",
    "\n",
    "Let's put all the features we've worked on so far together and build a model so we can see how it all fits together. "
   ]
  },
  {
   "cell_type": "code",
   "execution_count": null,
   "metadata": {},
   "outputs": [],
   "source": [
    "X = rent_clean[numfeatures + \n",
    "               ['renov', 'large_apt'] + \n",
    "               ['doorman', 'parking', 'garage', 'laundry'] +\n",
    "               ['num_desc_words', 'num_features', 'num_photos']]\n",
    "y = rent_clean['price']"
   ]
  },
  {
   "cell_type": "code",
   "execution_count": null,
   "metadata": {},
   "outputs": [],
   "source": [
    "rf, oob = evaluate(X, y)"
   ]
  },
  {
   "cell_type": "code",
   "execution_count": null,
   "metadata": {},
   "outputs": [],
   "source": [
    "showimp(rf, X, y)"
   ]
  },
  {
   "cell_type": "code",
   "execution_count": null,
   "metadata": {},
   "outputs": [],
   "source": []
  }
 ],
 "metadata": {
  "colab": {
   "collapsed_sections": [],
   "name": "new_initial_model.ipynb",
   "provenance": []
  },
  "kernelspec": {
   "display_name": "Python 3",
   "language": "python",
   "name": "python3"
  },
  "language_info": {
   "codemirror_mode": {
    "name": "ipython",
    "version": 3
   },
   "file_extension": ".py",
   "mimetype": "text/x-python",
   "name": "python",
   "nbconvert_exporter": "python",
   "pygments_lexer": "ipython3",
   "version": "3.12.1"
  }
 },
 "nbformat": 4,
 "nbformat_minor": 4
}
